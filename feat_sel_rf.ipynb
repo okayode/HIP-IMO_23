{
  "nbformat": 4,
  "nbformat_minor": 0,
  "metadata": {
    "colab": {
      "provenance": [],
      "authorship_tag": "ABX9TyNR+Iui+YqrkhG1Vb/XUpt7",
      "include_colab_link": true
    },
    "kernelspec": {
      "name": "python3",
      "display_name": "Python 3"
    },
    "language_info": {
      "name": "python"
    }
  },
  "cells": [
    {
      "cell_type": "markdown",
      "metadata": {
        "id": "view-in-github",
        "colab_type": "text"
      },
      "source": [
        "<a href=\"https://colab.research.google.com/github/okayode/HIP-IMO_23/blob/main/feat_sel_rf.ipynb\" target=\"_parent\"><img src=\"https://colab.research.google.com/assets/colab-badge.svg\" alt=\"Open In Colab\"/></a>"
      ]
    },
    {
      "cell_type": "code",
      "execution_count": 14,
      "metadata": {
        "id": "z1oVL_lHyfFp"
      },
      "outputs": [],
      "source": [
        "import numpy as np\n",
        "import pandas as pd\n",
        "import matplotlib.pyplot as plt\n",
        "from sklearn.svm import SVC\n",
        "from sklearn.model_selection import train_test_split\n",
        "from sklearn.tree import DecisionTreeClassifier\n",
        "from sklearn.tree import export_graphviz\n",
        "import graphviz\n"
      ]
    },
    {
      "cell_type": "markdown",
      "source": [
        "# Feature Selection"
      ],
      "metadata": {
        "id": "VqkZKfF0-jPy"
      }
    },
    {
      "cell_type": "code",
      "source": [
        "def draw_tree(x_train,y_train,x_test,y_test,feat_labels,target_labels,filename):\n",
        "    tree_clf = DecisionTreeClassifier(max_depth=None,random_state=1234)\n",
        "    tree_clf.fit(x_train,y_train)\n",
        "    for feature in zip(feat_labels, tree_clf.feature_importances_):\n",
        "        print(feature)\n",
        "    dot_data=export_graphviz(\n",
        "        tree_clf,\n",
        "        out_file=None,\n",
        "        feature_names=feat_labels,\n",
        "        class_names=target_labels,\n",
        "        leaves_parallel=False,\n",
        "        rounded=True,\n",
        "        filled=False\n",
        "    )\n",
        "    # Draw graph\n",
        "    dot_data = dot_data.replace('helvetica', 'Microsoft JhengHei')\n",
        "    graph = graphviz.Source(dot_data)\n",
        "\n",
        "    graph.render(filename)\n",
        "    return tree_clf.predict(x_test),y_test"
      ],
      "metadata": {
        "id": "_faYXVFi94Cj"
      },
      "execution_count": 15,
      "outputs": []
    },
    {
      "cell_type": "code",
      "source": [
        "## build our data\n",
        "\n",
        "data = {'surgeon' : [4,4,1,1,2,1,4,2,4,4],\n",
        "        'AgeatSurgery' : [68,57,61,91,79,71,73,78,68,69],\n",
        "        'BMI' : [21.05,33.76,26.28,19.22,26.71,20.19,33.95,26.33,21.32,34.21],\n",
        "        'Target' : [2, 1, 1, 1, 1, 2, 2, 2, 1, 1]}\n",
        "\n",
        "# in the target col, '1'=yes, '2'=no\n",
        "# Create DataFrame\n",
        "df = pd.DataFrame(data)\n",
        "\n",
        "df"
      ],
      "metadata": {
        "colab": {
          "base_uri": "https://localhost:8080/",
          "height": 363
        },
        "id": "jgca_Pjnyz-c",
        "outputId": "d077f4fd-8d0f-45ba-e800-0e9103c5d465"
      },
      "execution_count": 16,
      "outputs": [
        {
          "output_type": "execute_result",
          "data": {
            "text/plain": [
              "   surgeon  AgeatSurgery    BMI  Target\n",
              "0        4            68  21.05       2\n",
              "1        4            57  33.76       1\n",
              "2        1            61  26.28       1\n",
              "3        1            91  19.22       1\n",
              "4        2            79  26.71       1\n",
              "5        1            71  20.19       2\n",
              "6        4            73  33.95       2\n",
              "7        2            78  26.33       2\n",
              "8        4            68  21.32       1\n",
              "9        4            69  34.21       1"
            ],
            "text/html": [
              "\n",
              "  <div id=\"df-3d56c17d-2bee-41ae-ab07-1cb81c2cc98a\">\n",
              "    <div class=\"colab-df-container\">\n",
              "      <div>\n",
              "<style scoped>\n",
              "    .dataframe tbody tr th:only-of-type {\n",
              "        vertical-align: middle;\n",
              "    }\n",
              "\n",
              "    .dataframe tbody tr th {\n",
              "        vertical-align: top;\n",
              "    }\n",
              "\n",
              "    .dataframe thead th {\n",
              "        text-align: right;\n",
              "    }\n",
              "</style>\n",
              "<table border=\"1\" class=\"dataframe\">\n",
              "  <thead>\n",
              "    <tr style=\"text-align: right;\">\n",
              "      <th></th>\n",
              "      <th>surgeon</th>\n",
              "      <th>AgeatSurgery</th>\n",
              "      <th>BMI</th>\n",
              "      <th>Target</th>\n",
              "    </tr>\n",
              "  </thead>\n",
              "  <tbody>\n",
              "    <tr>\n",
              "      <th>0</th>\n",
              "      <td>4</td>\n",
              "      <td>68</td>\n",
              "      <td>21.05</td>\n",
              "      <td>2</td>\n",
              "    </tr>\n",
              "    <tr>\n",
              "      <th>1</th>\n",
              "      <td>4</td>\n",
              "      <td>57</td>\n",
              "      <td>33.76</td>\n",
              "      <td>1</td>\n",
              "    </tr>\n",
              "    <tr>\n",
              "      <th>2</th>\n",
              "      <td>1</td>\n",
              "      <td>61</td>\n",
              "      <td>26.28</td>\n",
              "      <td>1</td>\n",
              "    </tr>\n",
              "    <tr>\n",
              "      <th>3</th>\n",
              "      <td>1</td>\n",
              "      <td>91</td>\n",
              "      <td>19.22</td>\n",
              "      <td>1</td>\n",
              "    </tr>\n",
              "    <tr>\n",
              "      <th>4</th>\n",
              "      <td>2</td>\n",
              "      <td>79</td>\n",
              "      <td>26.71</td>\n",
              "      <td>1</td>\n",
              "    </tr>\n",
              "    <tr>\n",
              "      <th>5</th>\n",
              "      <td>1</td>\n",
              "      <td>71</td>\n",
              "      <td>20.19</td>\n",
              "      <td>2</td>\n",
              "    </tr>\n",
              "    <tr>\n",
              "      <th>6</th>\n",
              "      <td>4</td>\n",
              "      <td>73</td>\n",
              "      <td>33.95</td>\n",
              "      <td>2</td>\n",
              "    </tr>\n",
              "    <tr>\n",
              "      <th>7</th>\n",
              "      <td>2</td>\n",
              "      <td>78</td>\n",
              "      <td>26.33</td>\n",
              "      <td>2</td>\n",
              "    </tr>\n",
              "    <tr>\n",
              "      <th>8</th>\n",
              "      <td>4</td>\n",
              "      <td>68</td>\n",
              "      <td>21.32</td>\n",
              "      <td>1</td>\n",
              "    </tr>\n",
              "    <tr>\n",
              "      <th>9</th>\n",
              "      <td>4</td>\n",
              "      <td>69</td>\n",
              "      <td>34.21</td>\n",
              "      <td>1</td>\n",
              "    </tr>\n",
              "  </tbody>\n",
              "</table>\n",
              "</div>\n",
              "      <button class=\"colab-df-convert\" onclick=\"convertToInteractive('df-3d56c17d-2bee-41ae-ab07-1cb81c2cc98a')\"\n",
              "              title=\"Convert this dataframe to an interactive table.\"\n",
              "              style=\"display:none;\">\n",
              "        \n",
              "  <svg xmlns=\"http://www.w3.org/2000/svg\" height=\"24px\"viewBox=\"0 0 24 24\"\n",
              "       width=\"24px\">\n",
              "    <path d=\"M0 0h24v24H0V0z\" fill=\"none\"/>\n",
              "    <path d=\"M18.56 5.44l.94 2.06.94-2.06 2.06-.94-2.06-.94-.94-2.06-.94 2.06-2.06.94zm-11 1L8.5 8.5l.94-2.06 2.06-.94-2.06-.94L8.5 2.5l-.94 2.06-2.06.94zm10 10l.94 2.06.94-2.06 2.06-.94-2.06-.94-.94-2.06-.94 2.06-2.06.94z\"/><path d=\"M17.41 7.96l-1.37-1.37c-.4-.4-.92-.59-1.43-.59-.52 0-1.04.2-1.43.59L10.3 9.45l-7.72 7.72c-.78.78-.78 2.05 0 2.83L4 21.41c.39.39.9.59 1.41.59.51 0 1.02-.2 1.41-.59l7.78-7.78 2.81-2.81c.8-.78.8-2.07 0-2.86zM5.41 20L4 18.59l7.72-7.72 1.47 1.35L5.41 20z\"/>\n",
              "  </svg>\n",
              "      </button>\n",
              "      \n",
              "  <style>\n",
              "    .colab-df-container {\n",
              "      display:flex;\n",
              "      flex-wrap:wrap;\n",
              "      gap: 12px;\n",
              "    }\n",
              "\n",
              "    .colab-df-convert {\n",
              "      background-color: #E8F0FE;\n",
              "      border: none;\n",
              "      border-radius: 50%;\n",
              "      cursor: pointer;\n",
              "      display: none;\n",
              "      fill: #1967D2;\n",
              "      height: 32px;\n",
              "      padding: 0 0 0 0;\n",
              "      width: 32px;\n",
              "    }\n",
              "\n",
              "    .colab-df-convert:hover {\n",
              "      background-color: #E2EBFA;\n",
              "      box-shadow: 0px 1px 2px rgba(60, 64, 67, 0.3), 0px 1px 3px 1px rgba(60, 64, 67, 0.15);\n",
              "      fill: #174EA6;\n",
              "    }\n",
              "\n",
              "    [theme=dark] .colab-df-convert {\n",
              "      background-color: #3B4455;\n",
              "      fill: #D2E3FC;\n",
              "    }\n",
              "\n",
              "    [theme=dark] .colab-df-convert:hover {\n",
              "      background-color: #434B5C;\n",
              "      box-shadow: 0px 1px 3px 1px rgba(0, 0, 0, 0.15);\n",
              "      filter: drop-shadow(0px 1px 2px rgba(0, 0, 0, 0.3));\n",
              "      fill: #FFFFFF;\n",
              "    }\n",
              "  </style>\n",
              "\n",
              "      <script>\n",
              "        const buttonEl =\n",
              "          document.querySelector('#df-3d56c17d-2bee-41ae-ab07-1cb81c2cc98a button.colab-df-convert');\n",
              "        buttonEl.style.display =\n",
              "          google.colab.kernel.accessAllowed ? 'block' : 'none';\n",
              "\n",
              "        async function convertToInteractive(key) {\n",
              "          const element = document.querySelector('#df-3d56c17d-2bee-41ae-ab07-1cb81c2cc98a');\n",
              "          const dataTable =\n",
              "            await google.colab.kernel.invokeFunction('convertToInteractive',\n",
              "                                                     [key], {});\n",
              "          if (!dataTable) return;\n",
              "\n",
              "          const docLinkHtml = 'Like what you see? Visit the ' +\n",
              "            '<a target=\"_blank\" href=https://colab.research.google.com/notebooks/data_table.ipynb>data table notebook</a>'\n",
              "            + ' to learn more about interactive tables.';\n",
              "          element.innerHTML = '';\n",
              "          dataTable['output_type'] = 'display_data';\n",
              "          await google.colab.output.renderOutput(dataTable, element);\n",
              "          const docLink = document.createElement('div');\n",
              "          docLink.innerHTML = docLinkHtml;\n",
              "          element.appendChild(docLink);\n",
              "        }\n",
              "      </script>\n",
              "    </div>\n",
              "  </div>\n",
              "  "
            ]
          },
          "metadata": {},
          "execution_count": 16
        }
      ]
    },
    {
      "cell_type": "code",
      "source": [
        "X_3F = df.iloc[0:10,:-1]\n",
        "y_3F = df.iloc[0:10, -1].values\n",
        "\n",
        "feat_labels = [\"Surgeon\",\"Age at Surgery\",\"BMI\"]\n",
        "target_labels = [\"Grew TILs\", \"No TILs\"]\n"
      ],
      "metadata": {
        "id": "W9ods1gn86QR"
      },
      "execution_count": 17,
      "outputs": []
    },
    {
      "cell_type": "code",
      "source": [
        "X_train1, X_test1, y_train1, y_test1 = train_test_split(X_3F, y_3F, test_size = 0.30, random_state=1,stratify=y_3F)\n",
        "\n",
        "X_train2, X_test2, y_train2, y_test2 = train_test_split(X_3F, y_3F, test_size = 0.30, random_state=123,stratify=y_3F)"
      ],
      "metadata": {
        "id": "ypF1QKj39DND"
      },
      "execution_count": 18,
      "outputs": []
    },
    {
      "cell_type": "code",
      "source": [
        "print(X_3F)"
      ],
      "metadata": {
        "colab": {
          "base_uri": "https://localhost:8080/"
        },
        "id": "Aqfk3EN39LWU",
        "outputId": "2f0cad27-2376-4cb2-e686-a60de207d2ec"
      },
      "execution_count": 19,
      "outputs": [
        {
          "output_type": "stream",
          "name": "stdout",
          "text": [
            "   surgeon  AgeatSurgery    BMI\n",
            "0        4            68  21.05\n",
            "1        4            57  33.76\n",
            "2        1            61  26.28\n",
            "3        1            91  19.22\n",
            "4        2            79  26.71\n",
            "5        1            71  20.19\n",
            "6        4            73  33.95\n",
            "7        2            78  26.33\n",
            "8        4            68  21.32\n",
            "9        4            69  34.21\n"
          ]
        }
      ]
    },
    {
      "cell_type": "code",
      "source": [
        "print(y_3F)"
      ],
      "metadata": {
        "colab": {
          "base_uri": "https://localhost:8080/"
        },
        "id": "CCXFoHcL9h3l",
        "outputId": "77a0fac5-419e-4bcf-e0c5-c6d0a50fee11"
      },
      "execution_count": 20,
      "outputs": [
        {
          "output_type": "stream",
          "name": "stdout",
          "text": [
            "[2 1 1 1 1 2 2 2 1 1]\n"
          ]
        }
      ]
    },
    {
      "cell_type": "code",
      "source": [
        "print(X_train1)"
      ],
      "metadata": {
        "colab": {
          "base_uri": "https://localhost:8080/"
        },
        "id": "yHHoUJH39h7q",
        "outputId": "6838e77d-1f34-4e09-f433-b217c082df6a"
      },
      "execution_count": 21,
      "outputs": [
        {
          "output_type": "stream",
          "name": "stdout",
          "text": [
            "   surgeon  AgeatSurgery    BMI\n",
            "8        4            68  21.32\n",
            "1        4            57  33.76\n",
            "0        4            68  21.05\n",
            "6        4            73  33.95\n",
            "2        1            61  26.28\n",
            "7        2            78  26.33\n",
            "3        1            91  19.22\n"
          ]
        }
      ]
    },
    {
      "cell_type": "code",
      "source": [
        "print(y_train1)"
      ],
      "metadata": {
        "colab": {
          "base_uri": "https://localhost:8080/"
        },
        "id": "E1Dhrj9j9q92",
        "outputId": "dcca1e95-d01c-421f-a02c-eed2c58b560e"
      },
      "execution_count": 22,
      "outputs": [
        {
          "output_type": "stream",
          "name": "stdout",
          "text": [
            "[1 1 2 2 1 2 1]\n"
          ]
        }
      ]
    },
    {
      "cell_type": "code",
      "source": [
        "# tree 1\n",
        "\n",
        "feat_labels = [\"Surgeon\",\"Age at Surgery\",\"BMI\"]\n",
        "draw_tree(X_train1,y_train1,X_test1,y_test1,feat_labels,target_labels,\"demo_tree_1\")"
      ],
      "metadata": {
        "colab": {
          "base_uri": "https://localhost:8080/"
        },
        "id": "wJ6lDFPJ8UQ1",
        "outputId": "2376242d-704a-4337-971f-ad6f3723a25f"
      },
      "execution_count": 23,
      "outputs": [
        {
          "output_type": "stream",
          "name": "stdout",
          "text": [
            "('Surgeon', 0.3)\n",
            "('Age at Surgery', 0.3111111111111111)\n",
            "('BMI', 0.3888888888888889)\n"
          ]
        },
        {
          "output_type": "execute_result",
          "data": {
            "text/plain": [
              "(array([2, 1, 1]), array([1, 1, 2]))"
            ]
          },
          "metadata": {},
          "execution_count": 23
        }
      ]
    },
    {
      "cell_type": "code",
      "source": [
        "# X_train2 is a diffrent sub-sample from X-3F\n",
        "\n",
        "print(X_train2)"
      ],
      "metadata": {
        "colab": {
          "base_uri": "https://localhost:8080/"
        },
        "id": "hvVpFyur2c6I",
        "outputId": "219b0d16-573b-4967-b590-1fa5011a3446"
      },
      "execution_count": 24,
      "outputs": [
        {
          "output_type": "stream",
          "name": "stdout",
          "text": [
            "   surgeon  AgeatSurgery    BMI\n",
            "0        4            68  21.05\n",
            "1        4            57  33.76\n",
            "8        4            68  21.32\n",
            "7        2            78  26.33\n",
            "2        1            61  26.28\n",
            "6        4            73  33.95\n",
            "4        2            79  26.71\n"
          ]
        }
      ]
    },
    {
      "cell_type": "code",
      "source": [
        "# y_train2 is a diffrent sub-sample from y-3F\n",
        "\n",
        "print(y_train2)"
      ],
      "metadata": {
        "colab": {
          "base_uri": "https://localhost:8080/"
        },
        "id": "zKGX4Rfc2dIk",
        "outputId": "f8de48fb-ef43-4c9a-92aa-6c6eca4dfdeb"
      },
      "execution_count": 25,
      "outputs": [
        {
          "output_type": "stream",
          "name": "stdout",
          "text": [
            "[2 1 1 2 1 2 1]\n"
          ]
        }
      ]
    },
    {
      "cell_type": "code",
      "source": [
        "# tree 2\n",
        "# using a different sub-sample (X_train2 inplace of X_train1), we obtain different FIS for each feature\n",
        "\n",
        "feat_labels = [\"Surgeon\",\"Age at Surgery\",\"BMI\"]\n",
        "draw_tree(X_train2,y_train2,X_test2,y_test2,feat_labels,target_labels,\"demo_tree_2\")"
      ],
      "metadata": {
        "id": "yPkmDxsy8bAY",
        "colab": {
          "base_uri": "https://localhost:8080/"
        },
        "outputId": "6ebb16a2-d149-4eeb-cb4c-6dddb3334c51"
      },
      "execution_count": 26,
      "outputs": [
        {
          "output_type": "stream",
          "name": "stdout",
          "text": [
            "('Surgeon', 0.0)\n",
            "('Age at Surgery', 0.5625)\n",
            "('BMI', 0.4375)\n"
          ]
        },
        {
          "output_type": "execute_result",
          "data": {
            "text/plain": [
              "(array([2, 1, 2]), array([2, 1, 1]))"
            ]
          },
          "metadata": {},
          "execution_count": 26
        }
      ]
    },
    {
      "cell_type": "markdown",
      "source": [
        "# Exercises\n",
        "\n",
        "## 1. Generate a new tree, using a new sub-sample from X-3F and y-3F as done above.\n",
        "\n",
        "## 2. Explain the role of setting 'random_state = #num'\n",
        "\n",
        "## 3. Explain the role of 'stratify'\n",
        "\n",
        "## 4. I mentioned to you that Random forest algorithm aggregates the FIS from multiple decision trees, can you use the sklearn function 'RandomForestClassifier' (see the link below for the documentation page) to build a function similar to the function 'draw_tree' (see above), you will name this function 'draw_forest'. In 'draw_forest', use 500 decision trees\n",
        "\n",
        "https://scikit-learn.org/stable/modules/generated/sklearn.ensemble.RandomForestClassifier.html#sklearn.ensemble.RandomForestClassifier"
      ],
      "metadata": {
        "id": "iIbWd2HfBdC-"
      }
    }
  ]
}